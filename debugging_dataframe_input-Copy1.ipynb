{
 "cells": [
  {
   "cell_type": "code",
   "execution_count": 1,
   "id": "3049e9cd-f83f-4829-ae9c-264826d97293",
   "metadata": {},
   "outputs": [],
   "source": [
    "from src.pyhsiclasso import HSICLasso"
   ]
  },
  {
   "cell_type": "code",
   "execution_count": 2,
   "id": "1f4ebeed-2138-4cd4-92dc-9caa0a11cdda",
   "metadata": {},
   "outputs": [],
   "source": [
    "# from pyhsiclasso import HSICLasso\n",
    "import pandas as pd\n",
    "from pathlib import Path\n",
    "from pprint import pp\n",
    "import joblib"
   ]
  },
  {
   "cell_type": "code",
   "execution_count": 3,
   "id": "06d6923b-a81b-4f6c-ae22-ff72cc0701f1",
   "metadata": {},
   "outputs": [],
   "source": [
    "testfile = Path(\"vsc_pandas.pkl\")"
   ]
  },
  {
   "cell_type": "code",
   "execution_count": 4,
   "id": "e508331f-d937-4dd0-a03e-3b5bac9a7a1c",
   "metadata": {},
   "outputs": [
    {
     "name": "stdout",
     "output_type": "stream",
     "text": [
      "vsc_pandas.pkl found.  Loading...\n"
     ]
    }
   ],
   "source": [
    "if testfile.exists():\n",
    "    print(f\"{testfile} found.  Loading...\")\n",
    "    df = joblib.load(testfile)"
   ]
  },
  {
   "cell_type": "code",
   "execution_count": 5,
   "id": "5f02cb6c-4819-485b-98fa-2ae131472401",
   "metadata": {},
   "outputs": [
    {
     "data": {
      "text/html": [
       "<div>\n",
       "<style scoped>\n",
       "    .dataframe tbody tr th:only-of-type {\n",
       "        vertical-align: middle;\n",
       "    }\n",
       "\n",
       "    .dataframe tbody tr th {\n",
       "        vertical-align: top;\n",
       "    }\n",
       "\n",
       "    .dataframe thead th {\n",
       "        text-align: right;\n",
       "    }\n",
       "</style>\n",
       "<table border=\"1\" class=\"dataframe\">\n",
       "  <thead>\n",
       "    <tr style=\"text-align: right;\">\n",
       "      <th></th>\n",
       "      <th>Row.names</th>\n",
       "      <th>5S_rRNA</th>\n",
       "      <th>A1BG</th>\n",
       "      <th>A1BG-AS1</th>\n",
       "      <th>A1CF</th>\n",
       "      <th>A2M</th>\n",
       "      <th>A2M-AS1</th>\n",
       "      <th>A2ML1</th>\n",
       "      <th>A2ML1-AS1</th>\n",
       "      <th>A2MP1</th>\n",
       "      <th>...</th>\n",
       "      <th>ZWILCH</th>\n",
       "      <th>ZWINT</th>\n",
       "      <th>ZXDA</th>\n",
       "      <th>ZXDB</th>\n",
       "      <th>ZXDC</th>\n",
       "      <th>ZYG11A</th>\n",
       "      <th>ZYG11B</th>\n",
       "      <th>ZYX</th>\n",
       "      <th>ZZEF1</th>\n",
       "      <th>class</th>\n",
       "    </tr>\n",
       "  </thead>\n",
       "  <tbody>\n",
       "    <tr>\n",
       "      <th>0</th>\n",
       "      <td>AA04639</td>\n",
       "      <td>3.759550</td>\n",
       "      <td>5.707879</td>\n",
       "      <td>6.288938</td>\n",
       "      <td>3.759550</td>\n",
       "      <td>4.749976</td>\n",
       "      <td>7.489733</td>\n",
       "      <td>4.470477</td>\n",
       "      <td>3.75955</td>\n",
       "      <td>3.759550</td>\n",
       "      <td>...</td>\n",
       "      <td>5.785516</td>\n",
       "      <td>4.471892</td>\n",
       "      <td>6.202739</td>\n",
       "      <td>7.068695</td>\n",
       "      <td>9.257941</td>\n",
       "      <td>3.759550</td>\n",
       "      <td>8.079159</td>\n",
       "      <td>11.062132</td>\n",
       "      <td>10.511125</td>\n",
       "      <td>responder</td>\n",
       "    </tr>\n",
       "    <tr>\n",
       "      <th>1</th>\n",
       "      <td>AA04655</td>\n",
       "      <td>4.251995</td>\n",
       "      <td>6.592464</td>\n",
       "      <td>6.162980</td>\n",
       "      <td>4.091828</td>\n",
       "      <td>3.759550</td>\n",
       "      <td>6.514682</td>\n",
       "      <td>4.235305</td>\n",
       "      <td>3.75955</td>\n",
       "      <td>4.099044</td>\n",
       "      <td>...</td>\n",
       "      <td>6.269898</td>\n",
       "      <td>4.649176</td>\n",
       "      <td>6.524054</td>\n",
       "      <td>6.762956</td>\n",
       "      <td>9.334251</td>\n",
       "      <td>4.581141</td>\n",
       "      <td>8.515989</td>\n",
       "      <td>11.804764</td>\n",
       "      <td>10.083127</td>\n",
       "      <td>non_responder</td>\n",
       "    </tr>\n",
       "    <tr>\n",
       "      <th>2</th>\n",
       "      <td>AA04672</td>\n",
       "      <td>4.649783</td>\n",
       "      <td>4.931176</td>\n",
       "      <td>6.394098</td>\n",
       "      <td>3.759550</td>\n",
       "      <td>4.013174</td>\n",
       "      <td>5.832486</td>\n",
       "      <td>4.754342</td>\n",
       "      <td>3.75955</td>\n",
       "      <td>3.759550</td>\n",
       "      <td>...</td>\n",
       "      <td>5.763586</td>\n",
       "      <td>4.477563</td>\n",
       "      <td>6.283990</td>\n",
       "      <td>6.890087</td>\n",
       "      <td>9.709971</td>\n",
       "      <td>4.636183</td>\n",
       "      <td>8.183952</td>\n",
       "      <td>11.177457</td>\n",
       "      <td>10.620516</td>\n",
       "      <td>responder</td>\n",
       "    </tr>\n",
       "    <tr>\n",
       "      <th>3</th>\n",
       "      <td>AA04689</td>\n",
       "      <td>4.369191</td>\n",
       "      <td>5.644957</td>\n",
       "      <td>6.314784</td>\n",
       "      <td>3.759550</td>\n",
       "      <td>4.334589</td>\n",
       "      <td>8.406316</td>\n",
       "      <td>4.283224</td>\n",
       "      <td>3.75955</td>\n",
       "      <td>3.759550</td>\n",
       "      <td>...</td>\n",
       "      <td>6.243590</td>\n",
       "      <td>5.081074</td>\n",
       "      <td>6.160054</td>\n",
       "      <td>6.973650</td>\n",
       "      <td>9.517822</td>\n",
       "      <td>4.504064</td>\n",
       "      <td>8.188640</td>\n",
       "      <td>11.487291</td>\n",
       "      <td>10.906741</td>\n",
       "      <td>non_responder</td>\n",
       "    </tr>\n",
       "    <tr>\n",
       "      <th>4</th>\n",
       "      <td>AA04702</td>\n",
       "      <td>4.442792</td>\n",
       "      <td>6.560122</td>\n",
       "      <td>6.637967</td>\n",
       "      <td>4.213779</td>\n",
       "      <td>3.759550</td>\n",
       "      <td>6.825787</td>\n",
       "      <td>4.206591</td>\n",
       "      <td>3.75955</td>\n",
       "      <td>3.759550</td>\n",
       "      <td>...</td>\n",
       "      <td>5.074012</td>\n",
       "      <td>5.920429</td>\n",
       "      <td>6.319614</td>\n",
       "      <td>6.938792</td>\n",
       "      <td>9.200752</td>\n",
       "      <td>4.097943</td>\n",
       "      <td>7.942264</td>\n",
       "      <td>11.312018</td>\n",
       "      <td>10.695251</td>\n",
       "      <td>non_responder</td>\n",
       "    </tr>\n",
       "  </tbody>\n",
       "</table>\n",
       "<p>5 rows × 33741 columns</p>\n",
       "</div>"
      ],
      "text/plain": [
       "  Row.names   5S_rRNA      A1BG  A1BG-AS1      A1CF       A2M   A2M-AS1  \\\n",
       "0   AA04639  3.759550  5.707879  6.288938  3.759550  4.749976  7.489733   \n",
       "1   AA04655  4.251995  6.592464  6.162980  4.091828  3.759550  6.514682   \n",
       "2   AA04672  4.649783  4.931176  6.394098  3.759550  4.013174  5.832486   \n",
       "3   AA04689  4.369191  5.644957  6.314784  3.759550  4.334589  8.406316   \n",
       "4   AA04702  4.442792  6.560122  6.637967  4.213779  3.759550  6.825787   \n",
       "\n",
       "      A2ML1  A2ML1-AS1     A2MP1  ...    ZWILCH     ZWINT      ZXDA      ZXDB  \\\n",
       "0  4.470477    3.75955  3.759550  ...  5.785516  4.471892  6.202739  7.068695   \n",
       "1  4.235305    3.75955  4.099044  ...  6.269898  4.649176  6.524054  6.762956   \n",
       "2  4.754342    3.75955  3.759550  ...  5.763586  4.477563  6.283990  6.890087   \n",
       "3  4.283224    3.75955  3.759550  ...  6.243590  5.081074  6.160054  6.973650   \n",
       "4  4.206591    3.75955  3.759550  ...  5.074012  5.920429  6.319614  6.938792   \n",
       "\n",
       "       ZXDC    ZYG11A    ZYG11B        ZYX      ZZEF1          class  \n",
       "0  9.257941  3.759550  8.079159  11.062132  10.511125      responder  \n",
       "1  9.334251  4.581141  8.515989  11.804764  10.083127  non_responder  \n",
       "2  9.709971  4.636183  8.183952  11.177457  10.620516      responder  \n",
       "3  9.517822  4.504064  8.188640  11.487291  10.906741  non_responder  \n",
       "4  9.200752  4.097943  7.942264  11.312018  10.695251  non_responder  \n",
       "\n",
       "[5 rows x 33741 columns]"
      ]
     },
     "execution_count": 5,
     "metadata": {},
     "output_type": "execute_result"
    }
   ],
   "source": [
    "df.head()"
   ]
  },
  {
   "cell_type": "code",
   "execution_count": 6,
   "id": "4bd1b78a-d5ca-40ec-af48-be6913f1d94f",
   "metadata": {},
   "outputs": [],
   "source": [
    "df = df.drop(labels=\"Row.names\", axis=1)"
   ]
  },
  {
   "cell_type": "code",
   "execution_count": 7,
   "id": "7356a91f-8bb5-40b3-8c0b-9f43b3971bd3",
   "metadata": {},
   "outputs": [],
   "source": [
    "hl = HSICLasso()"
   ]
  },
  {
   "cell_type": "code",
   "execution_count": 8,
   "id": "fc6465cd-d158-4a70-8f61-4ce79091b806",
   "metadata": {},
   "outputs": [
    {
     "name": "stdout",
     "output_type": "stream",
     "text": [
      "X_in: (33739, 22), Y_in: (1, 22)\n"
     ]
    },
    {
     "data": {
      "text/plain": [
       "True"
      ]
     },
     "execution_count": 8,
     "metadata": {},
     "output_type": "execute_result"
    }
   ],
   "source": [
    "hl.input(df)"
   ]
  },
  {
   "cell_type": "code",
   "execution_count": 9,
   "id": "0d2d259c-664e-4a77-b12e-92e37693c2ce",
   "metadata": {},
   "outputs": [
    {
     "name": "stdout",
     "output_type": "stream",
     "text": [
      "Block HSIC Lasso B = 20.\n",
      "M set to 1.\n",
      "Using Gaussian kernel for the features, Delta kernel for the outcomes.\n"
     ]
    },
    {
     "name": "stderr",
     "output_type": "stream",
     "text": [
      "/home/milo/workspace/pyhsiclasso/src/pyhsiclasso/api.py:152: RuntimeWarning: B 20 must be an exact divisor of the number of samples 22. Number of blocks 1.1 will be approximated to 1.\n",
      "  warnings.warn(msg, RuntimeWarning)\n",
      "/home/milo/workspace/pyhsiclasso/src/pyhsiclasso/hsic_lasso.py:11: NumbaWarning: \n",
      "Compilation is falling back to object mode WITH looplifting enabled because Function \"hsic_lasso\" failed type inference due to: Untyped global name 'Parallel': Cannot determine Numba type of <class 'type'>\n",
      "\n",
      "File \"src/pyhsiclasso/hsic_lasso.py\", line 31:\n",
      "def hsic_lasso(X, Y, y_kernel, x_kernel=\"Gaussian\", n_jobs=-1, discarded=0, B=0, M=1):\n",
      "    <source elided>\n",
      "    # Preparing design matrix for HSIC Lars\n",
      "    result = Parallel(n_jobs=n_jobs)(\n",
      "    ^\n",
      "\n",
      "  @jit()\n",
      "/home/milo/.cache/pypoetry/virtualenvs/pyhsiclasso-K9XM4cp7-py3.9/lib/python3.9/site-packages/numba/core/object_mode_passes.py:151: NumbaWarning: Function \"hsic_lasso\" was compiled in object mode without forceobj=True.\n",
      "\n",
      "File \"src/pyhsiclasso/hsic_lasso.py\", line 12:\n",
      "@jit()\n",
      "def hsic_lasso(X, Y, y_kernel, x_kernel=\"Gaussian\", n_jobs=-1, discarded=0, B=0, M=1):\n",
      "^\n",
      "\n",
      "  warnings.warn(errors.NumbaWarning(warn_msg,\n",
      "/home/milo/.cache/pypoetry/virtualenvs/pyhsiclasso-K9XM4cp7-py3.9/lib/python3.9/site-packages/numba/core/object_mode_passes.py:161: NumbaDeprecationWarning: \n",
      "Fall-back from the nopython compilation path to the object mode compilation path has been detected, this is deprecated behaviour.\n",
      "\n",
      "For more information visit https://numba.pydata.org/numba-doc/latest/reference/deprecation.html#deprecation-of-object-mode-fall-back-behaviour-when-using-jit\n",
      "\n",
      "File \"src/pyhsiclasso/hsic_lasso.py\", line 12:\n",
      "@jit()\n",
      "def hsic_lasso(X, Y, y_kernel, x_kernel=\"Gaussian\", n_jobs=-1, discarded=0, B=0, M=1):\n",
      "^\n",
      "\n",
      "  warnings.warn(errors.NumbaDeprecationWarning(msg,\n"
     ]
    },
    {
     "ename": "TypingError",
     "evalue": "Failed in nopython mode pipeline (step: nopython frontend)\nnon-precise type array(pyobject, 2d, C)\nDuring: typing of argument at /home/milo/workspace/pyhsiclasso/src/pyhsiclasso/hsic_lasso.py (57)\n\nFile \"src/pyhsiclasso/hsic_lasso.py\", line 57:\ndef compute_kernel(x, kernel, B=0, M=1, discarded=0):\n    <source elided>\n\n    d, n = x.shape\n    ^\n",
     "output_type": "error",
     "traceback": [
      "\u001b[0;31m---------------------------------------------------------------------------\u001b[0m",
      "\u001b[0;31mTypingError\u001b[0m                               Traceback (most recent call last)",
      "\u001b[0;32m/tmp/ipykernel_5476/3061828087.py\u001b[0m in \u001b[0;36m<module>\u001b[0;34m\u001b[0m\n\u001b[0;32m----> 1\u001b[0;31m \u001b[0mhl\u001b[0m\u001b[0;34m.\u001b[0m\u001b[0mclassification\u001b[0m\u001b[0;34m(\u001b[0m\u001b[0;36m10\u001b[0m\u001b[0;34m)\u001b[0m\u001b[0;34m\u001b[0m\u001b[0;34m\u001b[0m\u001b[0m\n\u001b[0m",
      "\u001b[0;32m~/workspace/pyhsiclasso/src/pyhsiclasso/api.py\u001b[0m in \u001b[0;36mclassification\u001b[0;34m(self, num_feat, B, M, discrete_x, max_neighbors, n_jobs, covars, covars_kernel)\u001b[0m\n\u001b[1;32m    109\u001b[0m         \u001b[0mcovars_kernel\u001b[0m\u001b[0;34m=\u001b[0m\u001b[0;34m\"Gaussian\"\u001b[0m\u001b[0;34m,\u001b[0m\u001b[0;34m\u001b[0m\u001b[0;34m\u001b[0m\u001b[0m\n\u001b[1;32m    110\u001b[0m     ):\n\u001b[0;32m--> 111\u001b[0;31m         self._run_hsic_lasso(\n\u001b[0m\u001b[1;32m    112\u001b[0m             \u001b[0mnum_feat\u001b[0m\u001b[0;34m=\u001b[0m\u001b[0mnum_feat\u001b[0m\u001b[0;34m,\u001b[0m\u001b[0;34m\u001b[0m\u001b[0;34m\u001b[0m\u001b[0m\n\u001b[1;32m    113\u001b[0m             \u001b[0my_kernel\u001b[0m\u001b[0;34m=\u001b[0m\u001b[0;34m\"Delta\"\u001b[0m\u001b[0;34m,\u001b[0m\u001b[0;34m\u001b[0m\u001b[0;34m\u001b[0m\u001b[0m\n",
      "\u001b[0;32m~/workspace/pyhsiclasso/src/pyhsiclasso/api.py\u001b[0m in \u001b[0;36m_run_hsic_lasso\u001b[0;34m(self, y_kernel, num_feat, B, M, discrete_x, max_neighbors, n_jobs, covars, covars_kernel)\u001b[0m\n\u001b[1;32m    160\u001b[0m         )\n\u001b[1;32m    161\u001b[0m \u001b[0;34m\u001b[0m\u001b[0m\n\u001b[0;32m--> 162\u001b[0;31m         X, Xty, Ky = hsic_lasso(\n\u001b[0m\u001b[1;32m    163\u001b[0m             \u001b[0mself\u001b[0m\u001b[0;34m.\u001b[0m\u001b[0mX_in\u001b[0m\u001b[0;34m,\u001b[0m\u001b[0;34m\u001b[0m\u001b[0;34m\u001b[0m\u001b[0m\n\u001b[1;32m    164\u001b[0m             \u001b[0mself\u001b[0m\u001b[0;34m.\u001b[0m\u001b[0mY_in\u001b[0m\u001b[0;34m,\u001b[0m\u001b[0;34m\u001b[0m\u001b[0;34m\u001b[0m\u001b[0m\n",
      "\u001b[0;32m~/.cache/pypoetry/virtualenvs/pyhsiclasso-K9XM4cp7-py3.9/lib/python3.9/site-packages/numba/core/dispatcher.py\u001b[0m in \u001b[0;36m_compile_for_args\u001b[0;34m(self, *args, **kws)\u001b[0m\n\u001b[1;32m    480\u001b[0m                 \u001b[0me\u001b[0m\u001b[0;34m.\u001b[0m\u001b[0mpatch_message\u001b[0m\u001b[0;34m(\u001b[0m\u001b[0mmsg\u001b[0m\u001b[0;34m)\u001b[0m\u001b[0;34m\u001b[0m\u001b[0;34m\u001b[0m\u001b[0m\n\u001b[1;32m    481\u001b[0m \u001b[0;34m\u001b[0m\u001b[0m\n\u001b[0;32m--> 482\u001b[0;31m             \u001b[0merror_rewrite\u001b[0m\u001b[0;34m(\u001b[0m\u001b[0me\u001b[0m\u001b[0;34m,\u001b[0m \u001b[0;34m'typing'\u001b[0m\u001b[0;34m)\u001b[0m\u001b[0;34m\u001b[0m\u001b[0;34m\u001b[0m\u001b[0m\n\u001b[0m\u001b[1;32m    483\u001b[0m         \u001b[0;32mexcept\u001b[0m \u001b[0merrors\u001b[0m\u001b[0;34m.\u001b[0m\u001b[0mUnsupportedError\u001b[0m \u001b[0;32mas\u001b[0m \u001b[0me\u001b[0m\u001b[0;34m:\u001b[0m\u001b[0;34m\u001b[0m\u001b[0;34m\u001b[0m\u001b[0m\n\u001b[1;32m    484\u001b[0m             \u001b[0;31m# Something unsupported is present in the user code, add help info\u001b[0m\u001b[0;34m\u001b[0m\u001b[0;34m\u001b[0m\u001b[0m\n",
      "\u001b[0;32m~/.cache/pypoetry/virtualenvs/pyhsiclasso-K9XM4cp7-py3.9/lib/python3.9/site-packages/numba/core/dispatcher.py\u001b[0m in \u001b[0;36merror_rewrite\u001b[0;34m(e, issue_type)\u001b[0m\n\u001b[1;32m    421\u001b[0m                 \u001b[0;32mraise\u001b[0m \u001b[0me\u001b[0m\u001b[0;34m\u001b[0m\u001b[0;34m\u001b[0m\u001b[0m\n\u001b[1;32m    422\u001b[0m             \u001b[0;32melse\u001b[0m\u001b[0;34m:\u001b[0m\u001b[0;34m\u001b[0m\u001b[0;34m\u001b[0m\u001b[0m\n\u001b[0;32m--> 423\u001b[0;31m                 \u001b[0;32mraise\u001b[0m \u001b[0me\u001b[0m\u001b[0;34m.\u001b[0m\u001b[0mwith_traceback\u001b[0m\u001b[0;34m(\u001b[0m\u001b[0;32mNone\u001b[0m\u001b[0;34m)\u001b[0m\u001b[0;34m\u001b[0m\u001b[0;34m\u001b[0m\u001b[0m\n\u001b[0m\u001b[1;32m    424\u001b[0m \u001b[0;34m\u001b[0m\u001b[0m\n\u001b[1;32m    425\u001b[0m         \u001b[0margtypes\u001b[0m \u001b[0;34m=\u001b[0m \u001b[0;34m[\u001b[0m\u001b[0;34m]\u001b[0m\u001b[0;34m\u001b[0m\u001b[0;34m\u001b[0m\u001b[0m\n",
      "\u001b[0;31mTypingError\u001b[0m: Failed in nopython mode pipeline (step: nopython frontend)\nnon-precise type array(pyobject, 2d, C)\nDuring: typing of argument at /home/milo/workspace/pyhsiclasso/src/pyhsiclasso/hsic_lasso.py (57)\n\nFile \"src/pyhsiclasso/hsic_lasso.py\", line 57:\ndef compute_kernel(x, kernel, B=0, M=1, discarded=0):\n    <source elided>\n\n    d, n = x.shape\n    ^\n"
     ]
    }
   ],
   "source": [
    "hl.classification(10)"
   ]
  },
  {
   "cell_type": "code",
   "execution_count": 12,
   "id": "07357336-099d-46f7-b716-20fae5716189",
   "metadata": {},
   "outputs": [
    {
     "name": "stdout",
     "output_type": "stream",
     "text": [
      "============================================== HSICLasso : Result ==================================================\n",
      "| Order | Feature      | Score | Top-5 Related Feature (Relatedness Score)                                          |\n",
      "| 1     | AC009967.1   | 1.000 | CYP2C9       (0.771), SNRPD2P1     (0.747), TRGV1        (0.587), AL035045.1   (0.568), RNU2-5P      (0.555)|\n",
      "| 2     | PAPOLG       | 0.689 | LINC00929    (0.591), KIF24        (0.553), ATP6V1FNB    (0.552), AL671277.2   (0.536), AL121944.1   (0.530)|\n",
      "| 3     | IHH          | 0.575 | ZNF425       (0.645), SCARNA20     (0.638), AL449283.1   (0.600), TTLL7-IT1    (0.592), ABHD17B      (0.583)|\n",
      "| 4     | AC012306.3   | 0.562 | ARSD-AS1     (0.542), DPY19L2      (0.538), AL391262.1   (0.527), AC093627.5   (0.523), PIK3R4       (0.519)|\n",
      "| 5     | PRR27        | 0.455 | AC009119.1   (0.729), AL590560.3   (0.663), AC009879.3   (0.644), AC104123.1   (0.637), AC008764.8   (0.615)|\n",
      "| 6     | OGFOD1P1     | 0.302 | AC012170.2   (0.665), CENPF        (0.618), TRBV5-3      (0.606), TSPAN10      (0.585), FFAR3        (0.569)|\n",
      "| 7     | AC022079.1   | 0.104 | AL133493.1   (0.739), AC079209.2   (0.730), AC117500.2   (0.716), SLC17A5      (0.668), DLEC1        (0.614)|\n",
      "| 8     | RAB2A        | 0.091 | LIN52        (0.764), KRI1         (0.725), RBM14        (0.674), KL           (0.645), MAPRE1       (0.625)|\n",
      "| 9     | MFSD4A       | 0.061 | AK8          (0.607), ZNF558       (0.578), TOP3B        (0.566), AC131953.2   (0.552), RAB2A        (0.534)|\n",
      "| 10    | SEL1L        | 0.011 | AC137695.3   (0.682), AK8          (0.677), SENP8        (0.593), SNORA59A     (0.564), AC092295.1   (0.555)|\n"
     ]
    }
   ],
   "source": [
    "hl.dump()"
   ]
  },
  {
   "cell_type": "code",
   "execution_count": 54,
   "id": "df724c27-0aad-4108-8ad5-768d9c7cf4d6",
   "metadata": {},
   "outputs": [
    {
     "data": {
      "text/plain": [
       "[1684, 14266, 29423, 31475, 7815, 26987, 33062, 9063, 26463, 17156, 28367]"
      ]
     },
     "execution_count": 54,
     "metadata": {},
     "output_type": "execute_result"
    }
   ],
   "source": [
    "hl.A_neighbors[0]"
   ]
  },
  {
   "cell_type": "code",
   "execution_count": 66,
   "id": "e5d8e166-7150-4f6b-9abf-351237472a92",
   "metadata": {},
   "outputs": [],
   "source": [
    "from operator import itemgetter"
   ]
  },
  {
   "cell_type": "code",
   "execution_count": 14,
   "id": "5c0fcee8-673c-4afa-99bf-8edc98834558",
   "metadata": {},
   "outputs": [
    {
     "data": {
      "text/plain": [
       "[1684, 14266, 29423, 31475, 7815, 26987, 33062, 9063, 26463, 17156, 28367]"
      ]
     },
     "execution_count": 14,
     "metadata": {},
     "output_type": "execute_result"
    }
   ],
   "source": [
    "hl.A_neighbors[0]"
   ]
  },
  {
   "cell_type": "code",
   "execution_count": 74,
   "id": "1bfe6820-c51b-4597-965f-2a6c26c499af",
   "metadata": {},
   "outputs": [],
   "source": [
    "modules = [itemgetter(*hl.A_neighbors[_])(hl.featname) for _ in range(0,10)]"
   ]
  },
  {
   "cell_type": "code",
   "execution_count": 75,
   "id": "158dee7e-113e-4d75-a214-8fd1a1d9f0c3",
   "metadata": {},
   "outputs": [
    {
     "name": "stdout",
     "output_type": "stream",
     "text": [
      "[('AC009967.1',\n",
      "  'CYP2C9',\n",
      "  'SNRPD2P1',\n",
      "  'TRGV1',\n",
      "  'AL035045.1',\n",
      "  'RNU2-5P',\n",
      "  'ZIC5',\n",
      "  'AL355987.3',\n",
      "  'RN7SKP175',\n",
      "  'GPR160',\n",
      "  'SETBP1'),\n",
      " ('PAPOLG',\n",
      "  'LINC00929',\n",
      "  'KIF24',\n",
      "  'ATP6V1FNB',\n",
      "  'AL671277.2',\n",
      "  'AL121944.1',\n",
      "  'AC244033.2',\n",
      "  'ZNF680',\n",
      "  'AL163051.1',\n",
      "  'AC016168.4',\n",
      "  'RAB2A'),\n",
      " ('IHH',\n",
      "  'ZNF425',\n",
      "  'SCARNA20',\n",
      "  'AL449283.1',\n",
      "  'TTLL7-IT1',\n",
      "  'ABHD17B',\n",
      "  'AC016168.4',\n",
      "  'SRSF4',\n",
      "  'AC087639.2',\n",
      "  'MAF',\n",
      "  'AC053503.6'),\n",
      " ('AC012306.3',\n",
      "  'ARSD-AS1',\n",
      "  'DPY19L2',\n",
      "  'AL391262.1',\n",
      "  'AC093627.5',\n",
      "  'PIK3R4',\n",
      "  'GBF1',\n",
      "  'AC004466.1',\n",
      "  'HLA-DQB2',\n",
      "  'AL161912.2',\n",
      "  'LINC01425'),\n",
      " ('PRR27',\n",
      "  'AC009119.1',\n",
      "  'AL590560.3',\n",
      "  'AC009879.3',\n",
      "  'AC104123.1',\n",
      "  'AC008764.8',\n",
      "  'CNGA4',\n",
      "  'TTLL13P',\n",
      "  'AC006020.1',\n",
      "  'TAT-AS1',\n",
      "  'AC016705.2'),\n",
      " ('OGFOD1P1',\n",
      "  'AC012170.2',\n",
      "  'CENPF',\n",
      "  'TRBV5-3',\n",
      "  'TSPAN10',\n",
      "  'FFAR3',\n",
      "  'FARSA',\n",
      "  'SNX18',\n",
      "  'NDUFB1P2',\n",
      "  'EP400P1',\n",
      "  'MRVI1'),\n",
      " ('AC022079.1',\n",
      "  'AL133493.1',\n",
      "  'AC079209.2',\n",
      "  'AC117500.2',\n",
      "  'SLC17A5',\n",
      "  'DLEC1',\n",
      "  'HOXA5',\n",
      "  'AC099517.1',\n",
      "  'AC098872.1',\n",
      "  'AC016705.2',\n",
      "  'AC104123.1'),\n",
      " ('RAB2A',\n",
      "  'LIN52',\n",
      "  'KRI1',\n",
      "  'RBM14',\n",
      "  'KL',\n",
      "  'MAPRE1',\n",
      "  'SLC41A1',\n",
      "  'PICALM',\n",
      "  'AL158835.2',\n",
      "  'R3HCC1',\n",
      "  'AK8'),\n",
      " ('MFSD4A',\n",
      "  'AK8',\n",
      "  'ZNF558',\n",
      "  'TOP3B',\n",
      "  'AC131953.2',\n",
      "  'RAB2A',\n",
      "  'AF131216.4',\n",
      "  'LINC01089',\n",
      "  'HNRNPA1P68',\n",
      "  'LY6G6F-LY6G6D',\n",
      "  'NBDY'),\n",
      " ('SEL1L',\n",
      "  'AC137695.3',\n",
      "  'AK8',\n",
      "  'SENP8',\n",
      "  'SNORA59A',\n",
      "  'AC092295.1',\n",
      "  'AC087289.2',\n",
      "  'VPS37D',\n",
      "  'EXOSC2',\n",
      "  'AC008735.1',\n",
      "  'AL445645.1')]\n"
     ]
    }
   ],
   "source": [
    "pp(modules)"
   ]
  },
  {
   "cell_type": "code",
   "execution_count": 20,
   "id": "4ad98abb-6bfb-44bc-9bf6-0fe2e41203ae",
   "metadata": {},
   "outputs": [],
   "source": [
    "from src.pyhsiclasso.plot_figure import plot_heatmap, plot_path"
   ]
  },
  {
   "cell_type": "code",
   "execution_count": 42,
   "id": "d4cad218-9e23-426a-8e7a-88f579601307",
   "metadata": {},
   "outputs": [
    {
     "data": {
      "text/plain": [
       "<Figure size 720x720 with 0 Axes>"
      ]
     },
     "metadata": {},
     "output_type": "display_data"
    }
   ],
   "source": [
    "featured_items = [\"AC009967.1\",\"PAPOLG\",\"IHH\",\"AC012306.3\",\"PRR27\", \"OGFOD1P1\",\"AC022079.1\",\"RAB2A\",\"MFSD4A\",\"SEL1L\"]\n",
    "plot_heatmap(hl.X_in[[hl.featname.index(_) for _ in featured_items], :],\n",
    "            hl.linkage_dist,\n",
    "            featured_items,\n",
    "            filepath = \"heatmap.png\")"
   ]
  },
  {
   "cell_type": "code",
   "execution_count": 43,
   "id": "43b0f04d-a817-439d-a886-32ea1bf0a2ba",
   "metadata": {},
   "outputs": [
    {
     "data": {
      "text/plain": [
       "<Figure size 432x288 with 0 Axes>"
      ]
     },
     "metadata": {},
     "output_type": "display_data"
    }
   ],
   "source": [
    "plot_path(hl.path, hl.beta, hl.A, \"path.png\")"
   ]
  },
  {
   "cell_type": "code",
   "execution_count": 44,
   "id": "e6fe1fc2-5034-483b-9f78-ad28a77a4136",
   "metadata": {},
   "outputs": [
    {
     "data": {
      "text/plain": [
       "[1684, 24127, 18503, 2145, 25483, 23630, 2834, 25866, 21632, 28238]"
      ]
     },
     "execution_count": 44,
     "metadata": {},
     "output_type": "execute_result"
    }
   ],
   "source": [
    "[hl.featname.index(_) for _ in featured_items]"
   ]
  },
  {
   "cell_type": "code",
   "execution_count": 76,
   "id": "eb51f1f8-a296-4e82-9322-912917a0aa07",
   "metadata": {},
   "outputs": [
    {
     "name": "stdout",
     "output_type": "stream",
     "text": [
      "Block HSIC Lasso B = 20.\n",
      "M set to 1.\n",
      "Using Gaussian kernel for the features, Delta kernel for the outcomes.\n"
     ]
    },
    {
     "name": "stderr",
     "output_type": "stream",
     "text": [
      "/home/milo/workspace/pyHSICLasso/src/pyhsiclasso/api.py:151: RuntimeWarning: B 20 must be an exact divisor of the number of samples 22. Number of blocks 1.1 will be approximated to 1.\n",
      "  warnings.warn(msg, RuntimeWarning)\n"
     ]
    },
    {
     "name": "stdout",
     "output_type": "stream",
     "text": [
      "============================================== HSICLasso : Result ==================================================\n",
      "| Order | Feature      | Score | Top-5 Related Feature (Relatedness Score)                                          |\n",
      "| 1     | AC009967.1   | 1.000 | CYP2C9       (0.771), SNRPD2P1     (0.747), TRGV1        (0.587), AL035045.1   (0.568), RNU2-5P      (0.555)|\n",
      "| 2     | PAPOLG       | 0.720 | LINC00929    (0.591), KIF24        (0.553), ATP6V1FNB    (0.552), AL671277.2   (0.536), AL121944.1   (0.530)|\n",
      "| 3     | AC012306.3   | 0.656 | ARSD-AS1     (0.542), DPY19L2      (0.538), AL391262.1   (0.527), AC093627.5   (0.523), PIK3R4       (0.519)|\n",
      "| 4     | IHH          | 0.640 | ZNF425       (0.645), SCARNA20     (0.638), AL449283.1   (0.600), TTLL7-IT1    (0.592), ABHD17B      (0.583)|\n",
      "| 5     | PRR27        | 0.573 | AC009119.1   (0.729), AL590560.3   (0.663), AC009879.3   (0.644), AC104123.1   (0.637), AC008764.8   (0.615)|\n",
      "| 6     | OGFOD1P1     | 0.535 | AC012170.2   (0.665), CENPF        (0.618), TRBV5-3      (0.606), TSPAN10      (0.585), FFAR3        (0.569)|\n",
      "| 7     | RN7SL685P    | 0.288 | AL133371.3   (0.987), MAGEA9B      (0.718), AC093206.1   (0.716), AC130324.2   (0.716), AC024243.1   (0.712)|\n",
      "| 8     | AF131216.4   | 0.210 | AC053545.1   (0.644), AC092620.1   (0.641), SUGP1        (0.634), AC135983.2   (0.625), LINC01192    (0.599)|\n",
      "| 9     | MFSD4A       | 0.186 | AK8          (0.607), ZNF558       (0.578), TOP3B        (0.566), AC131953.2   (0.552), RAB2A        (0.534)|\n",
      "| 10    | AC022079.1   | 0.185 | AL133493.1   (0.739), AC079209.2   (0.730), AC117500.2   (0.716), SLC17A5      (0.668), DLEC1        (0.614)|\n",
      "| 11    | AC107032.3   | 0.115 | RN7SL791P    (0.831), AC051619.4   (0.777), AC112721.1   (0.674), CCL27        (0.668), RNU6-975P    (0.652)|\n",
      "| 12    | BX088651.1   | 0.083 | MORF4L1P4    (0.722), AC022137.4   (0.708), AC005993.1   (0.708), LINC01504    (0.704), RNU2-5P      (0.684)|\n",
      "| 13    | VN2R10P      | 0.072 | AUP1         (0.673), AC112482.1   (0.607), AC100814.1   (0.605), AC027228.3   (0.599), ANKRD28      (0.578)|\n",
      "| 14    | CA5BP1       | 0.056 | NME3         (0.599), AGAP13P      (0.568), SMN1         (0.565), RNF111       (0.548), FARSA        (0.540)|\n",
      "| 15    | AC122719.3   | 0.051 | AC112482.1   (0.666), TRMT10B      (0.608), AUP1         (0.600), MAPKAPK3     (0.597), NLGN4X       (0.582)|\n",
      "| 16    | RAB2A        | 0.049 | LIN52        (0.764), KRI1         (0.725), RBM14        (0.674), KL           (0.645), MAPRE1       (0.625)|\n",
      "| 17    | RCC2P6       | 0.028 | AC010867.1   (0.541), ILDR2        (0.529), GATA2-AS1    (0.522), AC097714.1   (0.521), AC119673.2   (0.513)|\n",
      "| 18    | PLEKHF1      | 0.027 | AC024651.3   (0.646), AP005482.3   (0.581), ELL3         (0.571), AL121821.2   (0.566), GLI4         (0.545)|\n",
      "| 19    | SEL1L        | 0.013 | AC137695.3   (0.682), AK8          (0.677), SENP8        (0.593), SNORA59A     (0.564), AC092295.1   (0.555)|\n",
      "| 20    | AUP1         | 0.002 | VN2R10P      (0.673), RPL22P1      (0.637), SMC5         (0.613), RN7SL336P    (0.601), AL139415.1   (0.601)|\n"
     ]
    }
   ],
   "source": [
    "hl.classification(20)\n",
    "hl.dump()"
   ]
  },
  {
   "cell_type": "code",
   "execution_count": null,
   "id": "2c57db88-7063-4d41-aef3-821f5a99f6a4",
   "metadata": {},
   "outputs": [],
   "source": []
  }
 ],
 "metadata": {
  "kernelspec": {
   "display_name": "Python 3 (ipykernel)",
   "language": "python",
   "name": "python3"
  },
  "language_info": {
   "codemirror_mode": {
    "name": "ipython",
    "version": 3
   },
   "file_extension": ".py",
   "mimetype": "text/x-python",
   "name": "python",
   "nbconvert_exporter": "python",
   "pygments_lexer": "ipython3",
   "version": "3.9.7"
  }
 },
 "nbformat": 4,
 "nbformat_minor": 5
}
