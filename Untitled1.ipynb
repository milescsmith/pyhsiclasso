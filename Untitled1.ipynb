{
 "cells": [
  {
   "cell_type": "code",
   "execution_count": 1,
   "id": "72c08fdf-8d22-4409-bd00-e15b09a1d794",
   "metadata": {},
   "outputs": [
    {
     "name": "stdout",
     "output_type": "stream",
     "text": [
      "Python 3.9.7\n"
     ]
    }
   ],
   "source": [
    "!python -V"
   ]
  },
  {
   "cell_type": "code",
   "execution_count": 1,
   "id": "3049e9cd-f83f-4829-ae9c-264826d97293",
   "metadata": {},
   "outputs": [],
   "source": [
    "from src.pyhsiclasso import HSICLasso"
   ]
  },
  {
   "cell_type": "code",
   "execution_count": 2,
   "id": "1f4ebeed-2138-4cd4-92dc-9caa0a11cdda",
   "metadata": {},
   "outputs": [],
   "source": [
    "# from pyhsiclasso import HSICLasso\n",
    "import pandas as pd\n",
    "from pathlib import Path"
   ]
  },
  {
   "cell_type": "code",
   "execution_count": 3,
   "id": "06d6923b-a81b-4f6c-ae22-ff72cc0701f1",
   "metadata": {},
   "outputs": [],
   "source": [
    "testfile = Path(\"tests/test_data/vsc_exprs.csv\")"
   ]
  },
  {
   "cell_type": "code",
   "execution_count": 4,
   "id": "e508331f-d937-4dd0-a03e-3b5bac9a7a1c",
   "metadata": {},
   "outputs": [
    {
     "name": "stdout",
     "output_type": "stream",
     "text": [
      "tests/test_data/vsc_exprs.csv found.  Loading...\n"
     ]
    }
   ],
   "source": [
    "if testfile.exists():\n",
    "    print(f\"{testfile} found.  Loading...\")\n",
    "    df = pd.read_csv(testfile)"
   ]
  },
  {
   "cell_type": "code",
   "execution_count": 5,
   "id": "7356a91f-8bb5-40b3-8c0b-9f43b3971bd3",
   "metadata": {},
   "outputs": [],
   "source": [
    "hl = HSICLasso()"
   ]
  },
  {
   "cell_type": "code",
   "execution_count": 6,
   "id": "fc6465cd-d158-4a70-8f61-4ce79091b806",
   "metadata": {},
   "outputs": [
    {
     "name": "stdout",
     "output_type": "stream",
     "text": [
      "X_in: (33739, 22), Y_in: (1, 22)\n"
     ]
    },
    {
     "data": {
      "text/plain": [
       "True"
      ]
     },
     "execution_count": 6,
     "metadata": {},
     "output_type": "execute_result"
    }
   ],
   "source": [
    "hl.input(df)"
   ]
  },
  {
   "cell_type": "code",
   "execution_count": 8,
   "id": "0d2d259c-664e-4a77-b12e-92e37693c2ce",
   "metadata": {},
   "outputs": [
    {
     "name": "stdout",
     "output_type": "stream",
     "text": [
      "Block HSIC Lasso B = 20.\n",
      "M set to 1.\n",
      "Using Gaussian kernel for the features, Delta kernel for the outcomes.\n"
     ]
    },
    {
     "name": "stderr",
     "output_type": "stream",
     "text": [
      "/home/milo/workspace/pyHSICLasso/src/pyhsiclasso/api.py:151: RuntimeWarning: B 20 must be an exact divisor of the number of samples 22. Number of blocks 1.1 will be approximated to 1.\n",
      "  warnings.warn(msg, RuntimeWarning)\n"
     ]
    },
    {
     "data": {
      "text/plain": [
       "True"
      ]
     },
     "execution_count": 8,
     "metadata": {},
     "output_type": "execute_result"
    }
   ],
   "source": [
    "hl.classification(10)"
   ]
  },
  {
   "cell_type": "code",
   "execution_count": 12,
   "id": "07357336-099d-46f7-b716-20fae5716189",
   "metadata": {},
   "outputs": [
    {
     "name": "stdout",
     "output_type": "stream",
     "text": [
      "============================================== HSICLasso : Result ==================================================\n",
      "| Order | Feature      | Score | Top-5 Related Feature (Relatedness Score)                                          |\n",
      "| 1     | AC009967.1   | 1.000 | CYP2C9       (0.771), SNRPD2P1     (0.747), TRGV1        (0.587), AL035045.1   (0.568), RNU2-5P      (0.555)|\n",
      "| 2     | PAPOLG       | 0.689 | LINC00929    (0.591), KIF24        (0.553), ATP6V1FNB    (0.552), AL671277.2   (0.536), AL121944.1   (0.530)|\n",
      "| 3     | IHH          | 0.575 | ZNF425       (0.645), SCARNA20     (0.638), AL449283.1   (0.600), TTLL7-IT1    (0.592), ABHD17B      (0.583)|\n",
      "| 4     | AC012306.3   | 0.562 | ARSD-AS1     (0.542), DPY19L2      (0.538), AL391262.1   (0.527), AC093627.5   (0.523), PIK3R4       (0.519)|\n",
      "| 5     | PRR27        | 0.455 | AC009119.1   (0.729), AL590560.3   (0.663), AC009879.3   (0.644), AC104123.1   (0.637), AC008764.8   (0.615)|\n",
      "| 6     | OGFOD1P1     | 0.302 | AC012170.2   (0.665), CENPF        (0.618), TRBV5-3      (0.606), TSPAN10      (0.585), FFAR3        (0.569)|\n",
      "| 7     | AC022079.1   | 0.104 | AL133493.1   (0.739), AC079209.2   (0.730), AC117500.2   (0.716), SLC17A5      (0.668), DLEC1        (0.614)|\n",
      "| 8     | RAB2A        | 0.091 | LIN52        (0.764), KRI1         (0.725), RBM14        (0.674), KL           (0.645), MAPRE1       (0.625)|\n",
      "| 9     | MFSD4A       | 0.061 | AK8          (0.607), ZNF558       (0.578), TOP3B        (0.566), AC131953.2   (0.552), RAB2A        (0.534)|\n",
      "| 10    | SEL1L        | 0.011 | AC137695.3   (0.682), AK8          (0.677), SENP8        (0.593), SNORA59A     (0.564), AC092295.1   (0.555)|\n"
     ]
    }
   ],
   "source": [
    "hl.dump()"
   ]
  },
  {
   "cell_type": "code",
   "execution_count": 17,
   "id": "df724c27-0aad-4108-8ad5-768d9c7cf4d6",
   "metadata": {},
   "outputs": [
    {
     "ename": "UnboundLocalError",
     "evalue": "Input your data",
     "output_type": "error",
     "traceback": [
      "\u001b[0;31m---------------------------------------------------------------------------\u001b[0m",
      "\u001b[0;31mUnboundLocalError\u001b[0m                         Traceback (most recent call last)",
      "\u001b[0;32m/tmp/ipykernel_8924/1663011159.py\u001b[0m in \u001b[0;36m<module>\u001b[0;34m\u001b[0m\n\u001b[0;32m----> 1\u001b[0;31m \u001b[0mhl\u001b[0m\u001b[0;34m.\u001b[0m\u001b[0mplot_heatmap\u001b[0m\u001b[0;34m(\u001b[0m\u001b[0;34m)\u001b[0m\u001b[0;34m\u001b[0m\u001b[0;34m\u001b[0m\u001b[0m\n\u001b[0m",
      "\u001b[0;32m~/workspace/pyHSICLasso/src/pyhsiclasso/api.py\u001b[0m in \u001b[0;36mplot_heatmap\u001b[0;34m(self, filepath)\u001b[0m\n\u001b[1;32m    251\u001b[0m             \u001b[0;32mor\u001b[0m \u001b[0mself\u001b[0m\u001b[0;34m.\u001b[0m\u001b[0mhclust_featnameindex\u001b[0m \u001b[0;32mis\u001b[0m \u001b[0;32mNone\u001b[0m\u001b[0;34m\u001b[0m\u001b[0;34m\u001b[0m\u001b[0m\n\u001b[1;32m    252\u001b[0m         ):\n\u001b[0;32m--> 253\u001b[0;31m             \u001b[0;32mraise\u001b[0m \u001b[0mUnboundLocalError\u001b[0m\u001b[0;34m(\u001b[0m\u001b[0;34m\"Input your data\"\u001b[0m\u001b[0;34m)\u001b[0m\u001b[0;34m\u001b[0m\u001b[0;34m\u001b[0m\u001b[0m\n\u001b[0m\u001b[1;32m    254\u001b[0m         plot_heatmap(\n\u001b[1;32m    255\u001b[0m             \u001b[0mself\u001b[0m\u001b[0;34m.\u001b[0m\u001b[0mX_in\u001b[0m\u001b[0;34m[\u001b[0m\u001b[0mself\u001b[0m\u001b[0;34m.\u001b[0m\u001b[0mhclust_featnameindex\u001b[0m\u001b[0;34m,\u001b[0m \u001b[0;34m:\u001b[0m\u001b[0;34m]\u001b[0m\u001b[0;34m,\u001b[0m\u001b[0;34m\u001b[0m\u001b[0;34m\u001b[0m\u001b[0m\n",
      "\u001b[0;31mUnboundLocalError\u001b[0m: Input your data"
     ]
    }
   ],
   "source": [
    "hl.plot_heatmap()"
   ]
  },
  {
   "cell_type": "code",
   "execution_count": 20,
   "id": "4ad98abb-6bfb-44bc-9bf6-0fe2e41203ae",
   "metadata": {},
   "outputs": [],
   "source": [
    "from src.pyhsiclasso.plot_figure import plot_heatmap, plot_path"
   ]
  },
  {
   "cell_type": "code",
   "execution_count": 42,
   "id": "d4cad218-9e23-426a-8e7a-88f579601307",
   "metadata": {},
   "outputs": [
    {
     "data": {
      "text/plain": [
       "<Figure size 720x720 with 0 Axes>"
      ]
     },
     "metadata": {},
     "output_type": "display_data"
    }
   ],
   "source": [
    "featured_items = [\"AC009967.1\",\"PAPOLG\",\"IHH\",\"AC012306.3\",\"PRR27\", \"OGFOD1P1\",\"AC022079.1\",\"RAB2A\",\"MFSD4A\",\"SEL1L\"]\n",
    "plot_heatmap(hl.X_in[[hl.featname.index(_) for _ in featured_items], :],\n",
    "            hl.linkage_dist,\n",
    "            featured_items,\n",
    "            filepath = \"heatmap.png\")"
   ]
  },
  {
   "cell_type": "code",
   "execution_count": 43,
   "id": "43b0f04d-a817-439d-a886-32ea1bf0a2ba",
   "metadata": {},
   "outputs": [
    {
     "data": {
      "text/plain": [
       "<Figure size 432x288 with 0 Axes>"
      ]
     },
     "metadata": {},
     "output_type": "display_data"
    }
   ],
   "source": [
    "plot_path(hl.path, hl.beta, hl.A, \"path.png\")"
   ]
  },
  {
   "cell_type": "code",
   "execution_count": 44,
   "id": "e6fe1fc2-5034-483b-9f78-ad28a77a4136",
   "metadata": {},
   "outputs": [
    {
     "data": {
      "text/plain": [
       "[1684, 24127, 18503, 2145, 25483, 23630, 2834, 25866, 21632, 28238]"
      ]
     },
     "execution_count": 44,
     "metadata": {},
     "output_type": "execute_result"
    }
   ],
   "source": [
    "[hl.featname.index(_) for _ in featured_items]"
   ]
  }
 ],
 "metadata": {
  "kernelspec": {
   "display_name": "Python 3 (ipykernel)",
   "language": "python",
   "name": "python3"
  },
  "language_info": {
   "codemirror_mode": {
    "name": "ipython",
    "version": 3
   },
   "file_extension": ".py",
   "mimetype": "text/x-python",
   "name": "python",
   "nbconvert_exporter": "python",
   "pygments_lexer": "ipython3",
   "version": "3.9.7"
  }
 },
 "nbformat": 4,
 "nbformat_minor": 5
}
